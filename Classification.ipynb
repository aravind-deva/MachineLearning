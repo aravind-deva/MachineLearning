{
 "cells": [
  {
   "cell_type": "markdown",
   "id": "liked-press",
   "metadata": {},
   "source": [
    "# Multi Class - predict single category from multiple categories for a  data point\n",
    "\n",
    "- Logistic Regression with multi_class ( soft_max ) \n",
    "- OneVsRest Logistic Regression with a BASE binary classifer\n",
    "    can be use multiple labels if y is a 2D matrix of **0s or 1s** **only**\n",
    "- OneVsOne Logistic Regression with a BASE binary classifier\n",
    "\n",
    "# Multi Label - predict multiple categories from multiple categories for a  data point\n",
    "\n",
    "- MultiOutputClassifier with a BASE binary/multi class classifier"
   ]
  },
  {
   "cell_type": "code",
   "execution_count": 1,
   "id": "dirty-customs",
   "metadata": {},
   "outputs": [],
   "source": [
    "import numpy as np\n",
    "import pandas as pd\n",
    "\n",
    "from sklearn.datasets import load_iris\n",
    "from sklearn.linear_model import LogisticRegression\n",
    "from sklearn.model_selection import train_test_split\n",
    "from sklearn.metrics import confusion_matrix\n",
    "from sklearn.metrics import f1_score\n",
    "from sklearn.metrics import recall_score\n",
    "from sklearn.metrics import precision_score"
   ]
  },
  {
   "cell_type": "code",
   "execution_count": 2,
   "id": "sensitive-quilt",
   "metadata": {},
   "outputs": [
    {
     "data": {
      "text/plain": [
       "array([[0, 1],\n",
       "       [0, 0]], dtype=int64)"
      ]
     },
     "execution_count": 2,
     "metadata": {},
     "output_type": "execute_result"
    }
   ],
   "source": [
    "# Note that lr takes string labels as well\n",
    "test_lr=LogisticRegression(multi_class='multinomial',solver='lbfgs')\n",
    "test_lr.fit([[1,2,3,4],[4,3,2,1]],['P','Q'])\n",
    "test_lr.predict([[4,2,3,3]])\n",
    "confusion_matrix(['P'],test_lr.predict([[4,2,3,3]]))"
   ]
  },
  {
   "cell_type": "code",
   "execution_count": 3,
   "id": "defined-limitation",
   "metadata": {},
   "outputs": [
    {
     "name": "stdout",
     "output_type": "stream",
     "text": [
      "(150, 4) (150,)\n"
     ]
    }
   ],
   "source": [
    "iris=load_iris()\n",
    "print(iris.data.shape,iris.target.shape)\n",
    "# The prediction was too accurate . SO i have made training_size << test_size\n",
    "split= train_test_split(iris.data,iris.target,test_size=0.75,random_state=25)\n",
    "A= split[0]\n",
    "B=split[2]\n",
    "C=split[1]\n",
    "D=split[3]"
   ]
  },
  {
   "cell_type": "code",
   "execution_count": 4,
   "id": "conscious-bradley",
   "metadata": {},
   "outputs": [
    {
     "data": {
      "text/plain": [
       "LogisticRegression(multi_class='multinomial')"
      ]
     },
     "execution_count": 4,
     "metadata": {},
     "output_type": "execute_result"
    }
   ],
   "source": [
    "lr=LogisticRegression(multi_class='multinomial',solver='lbfgs')\n",
    "#lr.fit(iris.data,iris.target)\n",
    "lr.fit(A,B)"
   ]
  },
  {
   "cell_type": "code",
   "execution_count": 5,
   "id": "floating-fraction",
   "metadata": {},
   "outputs": [
    {
     "data": {
      "text/plain": [
       "((2, 4), (1, 4), (4,), (), (1,))"
      ]
     },
     "execution_count": 5,
     "metadata": {},
     "output_type": "execute_result"
    }
   ],
   "source": [
    "iris.data[-2:,:].shape,iris.data[-1:,:].shape,iris.data[-1,:].shape, iris.target[-1].shape,iris.target[-1:].shape\n",
    "#iris.data[-1:,:]\n"
   ]
  },
  {
   "cell_type": "code",
   "execution_count": 6,
   "id": "modified-insight",
   "metadata": {},
   "outputs": [
    {
     "data": {
      "text/plain": [
       "array([1, 1, 1, 1, 1, 1, 1, 1, 1, 1, 1, 1, 1, 1, 1, 1, 1, 1, 1, 1, 1, 1,\n",
       "       1, 1, 1, 1, 1, 1, 1, 1, 1, 1, 1, 1, 1, 1, 1, 1, 1, 1, 1, 1, 1, 1,\n",
       "       1, 1, 1, 1, 1, 1, 2, 2, 2, 2, 2, 2, 2, 2, 2, 2, 2, 2, 2, 2, 2, 2,\n",
       "       2, 2, 2, 2, 2, 2, 2, 2, 2, 2, 2, 2, 2, 2, 2, 2, 2, 2, 2, 2, 2, 2,\n",
       "       2, 2, 2, 2, 2, 2, 2, 2, 2, 2, 2, 2])"
      ]
     },
     "execution_count": 6,
     "metadata": {},
     "output_type": "execute_result"
    }
   ],
   "source": [
    "iris.target[-100:]"
   ]
  },
  {
   "cell_type": "code",
   "execution_count": 7,
   "id": "exciting-grade",
   "metadata": {},
   "outputs": [],
   "source": [
    "#pred_classes=lr.predict(iris.data[-100:,:])\n",
    "#pred_probs=lr.predict_proba(iris.data[-100:,:])"
   ]
  },
  {
   "cell_type": "code",
   "execution_count": 8,
   "id": "opening-boxing",
   "metadata": {},
   "outputs": [
    {
     "name": "stdout",
     "output_type": "stream",
     "text": [
      "(113,) (113, 3)\n",
      "[[9.24828716e-01 7.51528698e-02 1.84139895e-05]\n",
      " [5.14288601e-03 4.81816483e-01 5.13040631e-01]\n",
      " [9.74730444e-03 3.77111350e-01 6.13141346e-01]\n",
      " [2.85214537e-02 5.82142495e-01 3.89336052e-01]\n",
      " [3.38176294e-04 8.94896073e-02 9.10172216e-01]\n",
      " [2.33456851e-02 7.34413664e-01 2.42240651e-01]\n",
      " [5.85345072e-03 3.50364333e-01 6.43782216e-01]\n",
      " [9.48747996e-01 5.12394754e-02 1.25282403e-05]\n",
      " [9.16209975e-02 8.57147402e-01 5.12316003e-02]\n",
      " [1.83880419e-01 7.91627455e-01 2.44921257e-02]\n",
      " [9.31663349e-01 6.83077285e-02 2.89220215e-05]\n",
      " [8.98394804e-01 1.01566659e-01 3.85369767e-05]\n",
      " [9.04781258e-01 9.51698998e-02 4.88424492e-05]\n",
      " [3.94662870e-03 3.79936489e-01 6.16116882e-01]\n",
      " [9.42848195e-01 5.71327672e-02 1.90376275e-05]\n",
      " [1.49975338e-02 6.91916689e-01 2.93085777e-01]\n",
      " [1.65338561e-04 7.68992065e-02 9.22935455e-01]\n",
      " [6.99740444e-04 1.38723217e-01 8.60577042e-01]\n",
      " [1.32329245e-01 8.04655982e-01 6.30147731e-02]\n",
      " [4.34541218e-02 7.66439335e-01 1.90106543e-01]\n",
      " [1.28975501e-01 8.38248513e-01 3.27759858e-02]\n",
      " [5.36182014e-02 7.88245654e-01 1.58136144e-01]\n",
      " [2.66467522e-02 6.01958285e-01 3.71394963e-01]\n",
      " [8.76173807e-01 1.23774511e-01 5.16818767e-05]\n",
      " [9.05403851e-01 9.45665259e-02 2.96225857e-05]\n",
      " [1.07346193e-05 1.24957295e-02 9.87493536e-01]\n",
      " [6.72864440e-02 8.47374170e-01 8.53393864e-02]\n",
      " [6.96142235e-06 1.84241307e-02 9.81568908e-01]\n",
      " [2.04172291e-04 6.19914798e-02 9.37804348e-01]\n",
      " [8.83146830e-01 1.16823685e-01 2.94841591e-05]\n",
      " [1.21865921e-02 6.25745105e-01 3.62068303e-01]\n",
      " [2.55022501e-03 2.38782418e-01 7.58667357e-01]\n",
      " [3.61494811e-05 3.67777796e-02 9.63186071e-01]\n",
      " [9.42595988e-01 5.73888841e-02 1.51281210e-05]\n",
      " [8.77737802e-04 1.12150447e-01 8.86971815e-01]\n",
      " [6.64094738e-03 5.06016508e-01 4.87342545e-01]\n",
      " [1.03709070e-02 6.66089796e-01 3.23539297e-01]\n",
      " [9.43775661e-01 5.62103537e-02 1.39854964e-05]\n",
      " [8.72472317e-01 1.27438825e-01 8.88582576e-05]\n",
      " [9.39141462e-01 6.08481092e-02 1.04283824e-05]\n",
      " [9.48922354e-01 5.10638735e-02 1.37721272e-05]\n",
      " [9.34268252e-01 6.57150465e-02 1.67010811e-05]\n",
      " [9.24314733e-01 7.56634323e-02 2.18342542e-05]\n",
      " [8.77252919e-01 1.22702026e-01 4.50549793e-05]\n",
      " [7.95319257e-03 3.88724099e-01 6.03322709e-01]\n",
      " [9.25558036e-01 7.44203090e-02 2.16545232e-05]\n",
      " [9.55217975e-01 4.47710619e-02 1.09629197e-05]\n",
      " [2.05438672e-02 6.32261694e-01 3.47194439e-01]\n",
      " [9.20670274e-01 7.93058646e-02 2.38614016e-05]\n",
      " [4.52222664e-03 2.64421421e-01 7.31056352e-01]\n",
      " [1.19859222e-04 6.06939970e-02 9.39186144e-01]\n",
      " [9.22154944e-01 7.78206030e-02 2.44525455e-05]\n",
      " [9.17465308e-01 8.25160407e-02 1.86515530e-05]\n",
      " [6.25662919e-04 1.28526301e-01 8.70848037e-01]\n",
      " [6.86538015e-02 8.36876044e-01 9.44701541e-02]\n",
      " [1.23242366e-03 1.24959517e-01 8.73808059e-01]\n",
      " [9.33287855e-04 1.45064213e-01 8.54002499e-01]\n",
      " [2.55251943e-02 6.77456664e-01 2.97018142e-01]\n",
      " [3.32495738e-04 7.69198679e-02 9.22747636e-01]\n",
      " [5.65190484e-02 7.76738752e-01 1.66742199e-01]\n",
      " [6.23654794e-03 4.06842488e-01 5.86920964e-01]\n",
      " [2.10626595e-04 1.03564400e-01 8.96224973e-01]\n",
      " [7.58020112e-02 8.52401643e-01 7.17963461e-02]\n",
      " [9.39247395e-01 6.07301984e-02 2.24066107e-05]\n",
      " [3.50460314e-03 4.22011645e-01 5.74483752e-01]\n",
      " [1.46361296e-02 5.17595910e-01 4.67767960e-01]\n",
      " [2.54737640e-03 2.29524012e-01 7.67928612e-01]\n",
      " [9.53654614e-01 4.63326208e-02 1.27648856e-05]\n",
      " [8.26245754e-02 7.78802400e-01 1.38573024e-01]\n",
      " [4.05031237e-03 3.76858225e-01 6.19091463e-01]\n",
      " [9.08470515e-01 9.15047548e-02 2.47307057e-05]\n",
      " [8.79821089e-01 1.20091931e-01 8.69799989e-05]\n",
      " [1.65043889e-04 4.41469784e-02 9.55687978e-01]\n",
      " [1.39152206e-02 5.86261303e-01 3.99823477e-01]\n",
      " [2.24812479e-02 7.32000240e-01 2.45518512e-01]\n",
      " [8.91934131e-01 1.07964972e-01 1.00897155e-04]\n",
      " [9.84433611e-06 1.84493917e-02 9.81540764e-01]\n",
      " [5.51752009e-02 8.40422141e-01 1.04402658e-01]\n",
      " [2.50250164e-03 2.31417490e-01 7.66080008e-01]\n",
      " [4.89653655e-02 7.63053984e-01 1.87980651e-01]\n",
      " [8.71714075e-04 1.57686807e-01 8.41441479e-01]\n",
      " [9.57965788e-01 4.20281734e-02 6.03849456e-06]\n",
      " [9.09725669e-01 9.02377206e-02 3.66105419e-05]\n",
      " [4.60648430e-02 8.18395265e-01 1.35539892e-01]\n",
      " [9.32570065e-01 6.74038462e-02 2.60883397e-05]\n",
      " [9.18117865e-01 8.18570908e-02 2.50445767e-05]\n",
      " [7.52374720e-03 5.90296480e-01 4.02179773e-01]\n",
      " [4.23564397e-03 3.70026902e-01 6.25737454e-01]\n",
      " [9.48269510e-01 5.17104896e-02 2.00005682e-05]\n",
      " [7.93671908e-04 8.80716080e-02 9.11134720e-01]\n",
      " [5.22348940e-02 8.25349668e-01 1.22415438e-01]\n",
      " [3.22480763e-02 7.66737546e-01 2.01014377e-01]\n",
      " [2.21070085e-02 6.48248872e-01 3.29644119e-01]\n",
      " [6.82853878e-05 6.09267940e-02 9.39004921e-01]\n",
      " [1.53035741e-02 7.61880578e-01 2.22815848e-01]\n",
      " [9.47340092e-01 5.26476104e-02 1.22974562e-05]\n",
      " [6.75218255e-05 2.25787217e-02 9.77353757e-01]\n",
      " [9.53110979e-01 4.68819930e-02 7.02816540e-06]\n",
      " [9.32001400e-01 6.79785763e-02 2.00237084e-05]\n",
      " [2.92953988e-02 7.77457546e-01 1.93247056e-01]\n",
      " [3.56919056e-03 3.30399269e-01 6.66031540e-01]\n",
      " [9.76359493e-04 1.52876249e-01 8.46147391e-01]\n",
      " [2.38143190e-03 2.99021757e-01 6.98596811e-01]\n",
      " [3.09933889e-02 7.33148325e-01 2.35858286e-01]\n",
      " [9.06203874e-01 9.37308628e-02 6.52636185e-05]\n",
      " [1.11803780e-03 1.93180331e-01 8.05701631e-01]\n",
      " [9.19392911e-01 8.05746214e-02 3.24679538e-05]\n",
      " [9.73641084e-01 2.63553790e-02 3.53657565e-06]\n",
      " [1.52947040e-02 6.55302049e-01 3.29403247e-01]\n",
      " [2.06354613e-01 7.68968431e-01 2.46769559e-02]\n",
      " [9.11404202e-01 8.85436098e-02 5.21886894e-05]\n",
      " [9.40112890e-01 5.98735950e-02 1.35146391e-05]\n",
      " [9.39323463e-01 6.06619956e-02 1.45409035e-05]]\n"
     ]
    }
   ],
   "source": [
    "#predict takes 2D Array !!!!\n",
    "pred_classes=lr.predict(C)\n",
    "pred_probs=lr.predict_proba(C)\n",
    "\n",
    "print(pred_classes.shape,pred_probs.shape)\n",
    "print(pred_probs)"
   ]
  },
  {
   "cell_type": "code",
   "execution_count": 9,
   "id": "appointed-parcel",
   "metadata": {},
   "outputs": [],
   "source": [
    "def all_metrics(D,pred_classes):\n",
    "    return (confusion_matrix(D,pred_classes) ,\\\n",
    "    recall_score(D,pred_classes,average=None) , precision_score(D,pred_classes,average=None), \\\n",
    "    f1_score(D,pred_classes,average=None) )"
   ]
  },
  {
   "cell_type": "code",
   "execution_count": 10,
   "id": "designing-canal",
   "metadata": {},
   "outputs": [
    {
     "data": {
      "text/plain": [
       "(array([[41,  0,  0],\n",
       "        [ 0, 35,  4],\n",
       "        [ 0,  0, 33]], dtype=int64),\n",
       " array([1.       , 0.8974359, 1.       ]),\n",
       " array([1.        , 1.        , 0.89189189]),\n",
       " array([1.        , 0.94594595, 0.94285714]))"
      ]
     },
     "execution_count": 10,
     "metadata": {},
     "output_type": "execute_result"
    }
   ],
   "source": [
    "all_metrics(D,pred_classes)"
   ]
  },
  {
   "cell_type": "code",
   "execution_count": 17,
   "id": "hourly-discretion",
   "metadata": {},
   "outputs": [
    {
     "data": {
      "text/plain": [
       "(113,)"
      ]
     },
     "execution_count": 17,
     "metadata": {},
     "output_type": "execute_result"
    }
   ],
   "source": [
    "pred_classes.shape"
   ]
  },
  {
   "cell_type": "markdown",
   "id": "congressional-crawford",
   "metadata": {},
   "source": [
    "### Other Multi Class Classification"
   ]
  },
  {
   "cell_type": "markdown",
   "id": "portuguese-defeat",
   "metadata": {},
   "source": [
    "## MultiOutput ( predict multiple categories from multipe categories for a  data point)\n",
    "- generates num_of_models = num_of_labels\n",
    "- Each column is treated an independent/separate model \n",
    "- ** Target is 2D **\n",
    "- Target is generally \n",
    "- For each data point , target is an array of num_of_labels [0 ,1, 1]\n",
    "- For regular Classification, for each data point is target is a scalar of the label - 2\n",
    "- each model = one for each column/label \n",
    "- so probabilities array shape = num_of_models shape\n",
    "- so classes array shape = num_of_test_data_points * num_labels\n",
    "- each output picks the label in each model  [1 1 0] for example\n"
   ]
  },
  {
   "cell_type": "code",
   "execution_count": 11,
   "id": "constitutional-phrase",
   "metadata": {},
   "outputs": [
    {
     "data": {
      "text/plain": [
       "((100, 20),\n",
       " array([[3., 6., 1., ..., 1., 5., 0.],\n",
       "        [3., 5., 5., ..., 1., 1., 1.],\n",
       "        [3., 3., 5., ..., 0., 2., 1.],\n",
       "        ...,\n",
       "        [3., 7., 3., ..., 2., 4., 2.],\n",
       "        [7., 2., 1., ..., 1., 1., 1.],\n",
       "        [3., 5., 3., ..., 1., 2., 4.]]),\n",
       " array([[0, 1, 0],\n",
       "        [0, 1, 0],\n",
       "        [1, 1, 1],\n",
       "        [1, 1, 1],\n",
       "        [0, 1, 0],\n",
       "        [1, 1, 0],\n",
       "        [0, 0, 0],\n",
       "        [1, 0, 0],\n",
       "        [0, 0, 1],\n",
       "        [0, 0, 0],\n",
       "        [0, 1, 0],\n",
       "        [0, 0, 0],\n",
       "        [0, 1, 1],\n",
       "        [1, 0, 0],\n",
       "        [1, 1, 0],\n",
       "        [1, 1, 1],\n",
       "        [0, 0, 0],\n",
       "        [0, 1, 0],\n",
       "        [0, 0, 0],\n",
       "        [1, 1, 1],\n",
       "        [0, 1, 1],\n",
       "        [0, 0, 1],\n",
       "        [1, 0, 1],\n",
       "        [0, 1, 0],\n",
       "        [0, 1, 0],\n",
       "        [1, 1, 0],\n",
       "        [0, 1, 1],\n",
       "        [0, 0, 1],\n",
       "        [1, 1, 1],\n",
       "        [1, 1, 0],\n",
       "        [0, 1, 0],\n",
       "        [0, 0, 1],\n",
       "        [0, 0, 1],\n",
       "        [0, 1, 0],\n",
       "        [0, 0, 0],\n",
       "        [0, 1, 0],\n",
       "        [0, 1, 0],\n",
       "        [1, 1, 1],\n",
       "        [1, 1, 1],\n",
       "        [0, 1, 1],\n",
       "        [1, 1, 1],\n",
       "        [1, 1, 1],\n",
       "        [0, 0, 1],\n",
       "        [1, 1, 0],\n",
       "        [1, 1, 0],\n",
       "        [1, 1, 1],\n",
       "        [1, 1, 1],\n",
       "        [0, 0, 1],\n",
       "        [0, 1, 1],\n",
       "        [1, 1, 1],\n",
       "        [0, 1, 0],\n",
       "        [1, 1, 1],\n",
       "        [1, 1, 1],\n",
       "        [0, 1, 0],\n",
       "        [1, 0, 0],\n",
       "        [0, 1, 1],\n",
       "        [1, 1, 0],\n",
       "        [0, 1, 0],\n",
       "        [0, 1, 1],\n",
       "        [1, 0, 1],\n",
       "        [1, 1, 1],\n",
       "        [0, 1, 1],\n",
       "        [0, 0, 1],\n",
       "        [1, 1, 0],\n",
       "        [1, 1, 1],\n",
       "        [1, 0, 1],\n",
       "        [0, 1, 0],\n",
       "        [0, 1, 0],\n",
       "        [0, 0, 0],\n",
       "        [0, 0, 0],\n",
       "        [1, 1, 1],\n",
       "        [1, 1, 1],\n",
       "        [0, 0, 1],\n",
       "        [1, 0, 1],\n",
       "        [1, 1, 0],\n",
       "        [1, 1, 0],\n",
       "        [1, 1, 1],\n",
       "        [1, 1, 1],\n",
       "        [1, 0, 1],\n",
       "        [1, 0, 0],\n",
       "        [1, 1, 1],\n",
       "        [1, 1, 0],\n",
       "        [1, 1, 1],\n",
       "        [0, 1, 0],\n",
       "        [1, 0, 0],\n",
       "        [0, 1, 1],\n",
       "        [1, 1, 1],\n",
       "        [1, 0, 0],\n",
       "        [1, 1, 1],\n",
       "        [1, 1, 0],\n",
       "        [0, 0, 0],\n",
       "        [0, 1, 1],\n",
       "        [1, 0, 1],\n",
       "        [1, 1, 0],\n",
       "        [1, 1, 1],\n",
       "        [0, 1, 0],\n",
       "        [0, 0, 0],\n",
       "        [0, 1, 1],\n",
       "        [1, 1, 1],\n",
       "        [1, 0, 1]]))"
      ]
     },
     "execution_count": 11,
     "metadata": {},
     "output_type": "execute_result"
    }
   ],
   "source": [
    "from sklearn.datasets import make_multilabel_classification\n",
    "from sklearn.multioutput import MultiOutputClassifier\n",
    "\n",
    "X, y = make_multilabel_classification(n_classes=3, random_state=0)\n",
    "X.shape , X ,y\n"
   ]
  },
  {
   "cell_type": "code",
   "execution_count": 19,
   "id": "binary-dispute",
   "metadata": {},
   "outputs": [
    {
     "name": "stdout",
     "output_type": "stream",
     "text": [
      "[[1 1 1]\n",
      " [1 0 1]] (2, 3) [array([[0.14044346, 0.85955654],\n",
      "       [0.16267135, 0.83732865]]), array([[0.09446415, 0.90553585],\n",
      "       [0.78465578, 0.21534422]]), array([[0.453594  , 0.546406  ],\n",
      "       [0.38098685, 0.61901315]])] 3\n"
     ]
    }
   ],
   "source": [
    "clf = MultiOutputClassifier(LogisticRegression()).fit(X, y)\n",
    "m_pred_classes=clf.predict(X[-2:])\n",
    "m_pred_probs=clf.predict_proba(X[-2:])\n",
    "\n",
    "print(m_pred_classes,m_pred_classes.shape,m_pred_probs,len(m_pred_probs))\n",
    "#m_pred_probs.shape\n"
   ]
  },
  {
   "cell_type": "markdown",
   "id": "marine-sterling",
   "metadata": {},
   "source": [
    "Model 1 - 2 datapoints X binary \n",
    "[array([[0.14044346, 0.85955654],\n",
    "       [0.16267135, 0.83732865]]), \n",
    "Model 2 - 2 datapoints X binary       \n",
    "array([[0.09446415, 0.90553585],\n",
    "       [0.78465578, 0.21534422]]), \n",
    "Model 3 - 2 datapoints X binary        \n",
    " array([[0.453594  , 0.546406  ],\n",
    "       [0.38098685, 0.61901315]])] 3"
   ]
  },
  {
   "cell_type": "markdown",
   "id": "thrown-commerce",
   "metadata": {},
   "source": [
    "### if y contains only single column only one model is generated\n",
    "- here y is a single column with (0,1,2) as class labels\n",
    "- so predication is an array with single column with 0 or 1 or 2"
   ]
  },
  {
   "cell_type": "code",
   "execution_count": 13,
   "id": "derived-flavor",
   "metadata": {},
   "outputs": [
    {
     "data": {
      "text/plain": [
       "((10, 1),\n",
       " array([[2.],\n",
       "        [2.],\n",
       "        [2.],\n",
       "        [2.],\n",
       "        [1.],\n",
       "        [0.],\n",
       "        [2.],\n",
       "        [2.],\n",
       "        [0.],\n",
       "        [1.]]),\n",
       " [array([[0.29735607, 0.01669833, 0.6859456 ],\n",
       "         [0.35424857, 0.03472184, 0.61102959],\n",
       "         [0.28626994, 0.08585234, 0.62787772],\n",
       "         [0.38757585, 0.01791295, 0.59451121],\n",
       "         [0.3591262 , 0.5287604 , 0.11211341],\n",
       "         [0.54803632, 0.08543395, 0.36652973],\n",
       "         [0.13241586, 0.01890283, 0.84868131],\n",
       "         [0.34492806, 0.19627413, 0.45879782],\n",
       "         [0.51556317, 0.08515241, 0.39928442],\n",
       "         [0.4569614 , 0.46048421, 0.08255439]])])"
      ]
     },
     "execution_count": 13,
     "metadata": {},
     "output_type": "execute_result"
    }
   ],
   "source": [
    "z=np.zeros((100,1))\n",
    "z[-25:]=2\n",
    "z[25:50]=1\n",
    "z\n",
    "\n",
    "clf = MultiOutputClassifier(LogisticRegression(max_iter=500)).fit(X, z)\n",
    "\n",
    "m_pred_classes=clf.predict(X[-10:])\n",
    "m_pred_probs=clf.predict_proba(X[-10:])\n",
    "\n",
    "m_pred_classes.shape,m_pred_classes,m_pred_probs\n",
    "#,m_pred_probs.shape"
   ]
  },
  {
   "cell_type": "markdown",
   "id": "presidential-feedback",
   "metadata": {},
   "source": [
    "# Multi Class - predict single category from multiple categories for a  data point\n",
    "## OneVsRestClassifier\n",
    "- generates num_of_models = num_of_labels\n",
    "- each model = one vs rest\n",
    "- so probabilities array shape = num_of_models shape \n",
    "(technically each model generates 2/binary probabilities , Yes Prob =0... No Prob =0...)\n",
    "For this classifier , Yes Prob from each model is taken and highest Yes Prob decides the class\n",
    "- so classes array shape = num_of_test_data_points\n",
    "- one class with highest probability among all probabilities is picked\n",
    "- Note: if probs are 0.2 ,0.4, 0.3 the second one is picked. it need not be >0.5 cutoff like in softmax logistic"
   ]
  },
  {
   "cell_type": "code",
   "execution_count": 21,
   "id": "spread-finger",
   "metadata": {},
   "outputs": [
    {
     "data": {
      "text/plain": [
       "(array([2, 0]),\n",
       " (2,),\n",
       " array([[2.13656050e-07, 1.98122741e-02, 9.80187512e-01],\n",
       "        [9.79177154e-01, 2.05881382e-02, 2.34708228e-04]]),\n",
       " (2, 3))"
      ]
     },
     "execution_count": 21,
     "metadata": {},
     "output_type": "execute_result"
    }
   ],
   "source": [
    "\n",
    "from sklearn.multiclass import OneVsRestClassifier\n",
    "\n",
    "ovr_x = np.array([\n",
    "    [10, 10],\n",
    "    [8, 10],\n",
    "    [-5, 5.5],\n",
    "    [-5.4, 5.5],\n",
    "    [-20, -20],\n",
    "   [-15, -20]\n",
    "])\n",
    "over_y = np.array([0, 0, 1, 1, 2, 2])\n",
    "ovr = OneVsRestClassifier(LogisticRegression()).fit(ovr_x, over_y)\n",
    "ovr_preds_classes=ovr.predict([[-19, -20],[9,9]])\n",
    "ovr_preds_probs=ovr.predict_proba([[-19, -20],[9,9]])\n",
    "\n",
    "ovr_preds_classes,ovr_preds_classes.shape,ovr_preds_probs,ovr_preds_probs.shape\n"
   ]
  },
  {
   "cell_type": "markdown",
   "id": "enclosed-springfield",
   "metadata": {},
   "source": [
    "## OneVs One\n",
    "\n",
    "- generates num_of_models = num_of_labels Combination 2 ( nC2 )\n",
    "- each model = pair of class labels\n",
    "- so probabilities array shape = num_of_models shape\n",
    "- so classes array shape = num_of_test_data_points\n",
    "- one class with highest probability among all probabilities is picked\n",
    "- Note: if probs are 0.2 ,0.4, 0.3 the second one is picked. it need not be >0.5 cutoff like in softmax logistic\n",
    "\n",
    "https://machinelearningmastery.com/one-vs-rest-and-one-vs-one-for-multi-class-classification/\n",
    "Each binary classification model may predict one class label and the model with the most predictions or votes is predicted by the one-vs-one strategy.\n",
    "\n",
    "\n",
    "An alternative is to introduce K(K − 1)/2 binary discriminant functions, one for every possible pair of classes. This is known as a one-versus-one classifier. Each point is then classified according to a majority vote amongst the discriminant functions."
   ]
  },
  {
   "cell_type": "code",
   "execution_count": 27,
   "id": "undefined-aberdeen",
   "metadata": {},
   "outputs": [
    {
     "data": {
      "text/plain": [
       "(array([2, 0]), (2,))"
      ]
     },
     "execution_count": 27,
     "metadata": {},
     "output_type": "execute_result"
    }
   ],
   "source": [
    "from sklearn.multiclass import OneVsOneClassifier\n",
    "\n",
    "ovo_x = np.array([\n",
    "    [10, 10],\n",
    "    [8, 10],\n",
    "    [-5, 5.5],\n",
    "    [-5.4, 5.5],\n",
    "    [-20, -20],\n",
    "   [-15, -20]\n",
    "])\n",
    "## 4 classes => 6 models\n",
    "ovo_y = np.array([0, 0, 1, 1, 2, 3])\n",
    "ovo = OneVsOneClassifier(LogisticRegression()).fit(ovo_x, ovo_y)\n",
    "ovo_preds_classes=ovo.predict([[-19, -20],[9,9]])\n",
    "\n",
    "## HAS NO predict_proba metho\n",
    "#ovo_preds_probs=ovo.predict_proba([[-19, -20],[9,9]])\n",
    "\n",
    "ovo_preds_classes,ovo_preds_classes.shape\n",
    "#ovo_preds_probs,ovo_preds_probs.shape"
   ]
  },
  {
   "cell_type": "code",
   "execution_count": 31,
   "id": "backed-advertiser",
   "metadata": {},
   "outputs": [
    {
     "data": {
      "text/plain": [
       "(array([[1, 1],\n",
       "        [0, 1]]),\n",
       " (2, 2),\n",
       " array([[0.77027017, 0.98508217],\n",
       "        [0.00621082, 0.97810504]]),\n",
       " (2, 2))"
      ]
     },
     "execution_count": 31,
     "metadata": {},
     "output_type": "execute_result"
    }
   ],
   "source": [
    "from sklearn.multiclass import OneVsRestClassifier\n",
    "\n",
    "ovr2_x = np.array([\n",
    "    [10, 10],\n",
    "    [8, 10],\n",
    "    [-5, 5.5],\n",
    "    [-5.4, 5.5],\n",
    "    [-20, -20],\n",
    "   [-15, -20]\n",
    "])\n",
    "## Multioutput target data is not supported with label binarization\n",
    "##over2_y = np.array([[0,1],[0,2],[1,0],[1,1], [2,1], [2,1]])\n",
    "## It has to be BINARY labels\n",
    "over2_y = np.array([[0,1],[0,1],[1,0],[1,1], [1,1], [0,1]])\n",
    "ovr2 = OneVsRestClassifier(LogisticRegression()).fit(ovr2_x, over2_y)\n",
    "\n",
    "ovr2_preds_classes=ovr2.predict([[-19, -20],[9,9]])\n",
    "ovr2_preds_probs=ovr2.predict_proba([[-19, -20],[9,9]])\n",
    "\n",
    "ovr2_preds_classes,ovr2_preds_classes.shape,ovr2_preds_probs,ovr2_preds_probs.shape\n"
   ]
  }
 ],
 "metadata": {
  "kernelspec": {
   "display_name": "Python 3",
   "language": "python",
   "name": "python3"
  },
  "language_info": {
   "codemirror_mode": {
    "name": "ipython",
    "version": 3
   },
   "file_extension": ".py",
   "mimetype": "text/x-python",
   "name": "python",
   "nbconvert_exporter": "python",
   "pygments_lexer": "ipython3",
   "version": "3.9.1"
  }
 },
 "nbformat": 4,
 "nbformat_minor": 5
}
