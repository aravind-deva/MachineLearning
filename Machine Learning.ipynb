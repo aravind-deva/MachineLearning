{
 "cells": [
  {
   "cell_type": "code",
   "execution_count": 1,
   "id": "ethical-bonus",
   "metadata": {},
   "outputs": [],
   "source": [
    "import numpy as np\n",
    "import pandas as pd\n",
    "import sklearn\n",
    "from sklearn.datasets import load_boston\n",
    "from sklearn.model_selection import train_test_split\n",
    "from sklearn.linear_model import LinearRegression\n",
    "from sklearn.preprocessing import RobustScaler"
   ]
  },
  {
   "cell_type": "code",
   "execution_count": 14,
   "id": "wound-flood",
   "metadata": {},
   "outputs": [
    {
     "name": "stdout",
     "output_type": "stream",
     "text": [
      "(506, 13)\n",
      "(506, 1)\n"
     ]
    }
   ],
   "source": [
    "boston_ds=load_boston()\n",
    "dir(boston_ds)\n",
    "boston_train_x_df= pd.DataFrame(boston_ds.data,columns=boston_ds.feature_names)\n",
    "boston_train_y_df=pd.DataFrame(boston_ds.target,columns=['price'])\n",
    "print(boston_train_x_df.shape)\n",
    "## NEED not be (506,) row vector\n",
    "print(boston_train_y_df.shape)"
   ]
  },
  {
   "cell_type": "code",
   "execution_count": 15,
   "id": "documentary-beaver",
   "metadata": {},
   "outputs": [
    {
     "name": "stdout",
     "output_type": "stream",
     "text": [
      "(379, 13) (379, 1) (127, 13) (127, 1) \n"
     ]
    }
   ],
   "source": [
    "train_test_df=train_test_split(boston_train_x_df,boston_train_y_df,test_size=0.25,random_state=20)\n",
    "boston_train_x_df=train_test_df[0]\n",
    "boston_test_x_df=train_test_df[1]\n",
    "boston_train_y_df=train_test_df[2]\n",
    "boston_test_y_df=train_test_df[3]\n",
    "print(f\"{boston_train_x_df.shape} {boston_train_y_df.shape} {boston_test_x_df.shape} {boston_test_y_df.shape} \")"
   ]
  },
  {
   "cell_type": "code",
   "execution_count": 21,
   "id": "material-northern",
   "metadata": {},
   "outputs": [
    {
     "name": "stdout",
     "output_type": "stream",
     "text": [
      "[30.55552275] [[-5.76878557e-02  3.46704665e-02  3.40224233e-02  3.10628230e+00\n",
      "  -2.00714513e+01  4.33726203e+00  8.33421170e-03 -1.31765787e+00\n",
      "   2.37004632e-01 -1.02897618e-02 -8.54705250e-01  9.70928717e-03\n",
      "  -4.87796034e-01]]\n",
      "(127, 1)\n"
     ]
    }
   ],
   "source": [
    "## y values have not been centered\n",
    "#help(LinearRegression)\n",
    "linear_reg=LinearRegression(fit_intercept=True)\n",
    "linear_reg.fit(boston_train_x_df,boston_train_y_df)\n",
    "print(f\"{linear_reg.intercept_ } {linear_reg.coef_}\")\n",
    "pred_y=linear_reg.predict(boston_test_x_df)\n",
    "print(pred_y.shape)"
   ]
  },
  {
   "cell_type": "code",
   "execution_count": 30,
   "id": "bound-scope",
   "metadata": {},
   "outputs": [
    {
     "name": "stdout",
     "output_type": "stream",
     "text": [
      "0.7185236383055453\n",
      "0.7185236383055453\n"
     ]
    }
   ],
   "source": [
    "from sklearn import metrics\n",
    "#expected first\n",
    "metrics_r2=metrics.r2_score(boston_test_y_df,pred_y )\n",
    "print(metrics_r2)\n",
    "\n",
    "# PASS IN test input!! NOT predicted values\n",
    "#(X,Y)\n",
    "lin_r2=linear_reg.score(boston_test_x_df,boston_test_y_df)\n",
    "\n",
    "print(lin_r2)"
   ]
  },
  {
   "cell_type": "code",
   "execution_count": 32,
   "id": "spoken-chicago",
   "metadata": {},
   "outputs": [],
   "source": [
    "%matplotlib inline\n",
    "import matplotlib.pyplot as plot"
   ]
  },
  {
   "cell_type": "code",
   "execution_count": 38,
   "id": "outstanding-restaurant",
   "metadata": {},
   "outputs": [
    {
     "data": {
      "text/plain": [
       "<matplotlib.collections.PathCollection at 0x19cb5b1c820>"
      ]
     },
     "execution_count": 38,
     "metadata": {},
     "output_type": "execute_result"
    },
    {
     "data": {
      "image/png": "[encoded data removed]",
      "text/plain": [
       "<Figure size 432x288 with 4 Axes>"
      ]
     },
     "metadata": {
      "needs_background": "light"
     },
     "output_type": "display_data"
    }
   ],
   "source": [
    "fig,axes=plot.subplots(2,2)\n",
    "axes[0][0].scatter(boston_test_y_df,pred_y)"
   ]
  },
  {
   "cell_type": "code",
   "execution_count": null,
   "id": "favorite-ethnic",
   "metadata": {},
   "outputs": [],
   "source": []
  }
 ],
 "metadata": {
  "kernelspec": {
   "display_name": "Python 3",
   "language": "python",
   "name": "python3"
  },
  "language_info": {
   "codemirror_mode": {
    "name": "ipython",
    "version": 3
   },
   "file_extension": ".py",
   "mimetype": "text/x-python",
   "name": "python",
   "nbconvert_exporter": "python",
   "pygments_lexer": "ipython3",
   "version": "3.9.1"
  }
 },
 "nbformat": 4,
 "nbformat_minor": 5
}
